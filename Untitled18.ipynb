{
 "cells": [
  {
   "cell_type": "code",
   "execution_count": 1,
   "id": "631fe9a9",
   "metadata": {},
   "outputs": [
    {
     "name": "stdout",
     "output_type": "stream",
     "text": [
      "Hello World!\n"
     ]
    }
   ],
   "source": [
    "print(\"Hello World!\")"
   ]
  },
  {
   "cell_type": "code",
   "execution_count": 2,
   "id": "b36e1c45",
   "metadata": {},
   "outputs": [
    {
     "data": {
      "text/plain": [
       "25"
      ]
     },
     "execution_count": 2,
     "metadata": {},
     "output_type": "execute_result"
    }
   ],
   "source": [
    "10+15"
   ]
  },
  {
   "cell_type": "code",
   "execution_count": 3,
   "id": "ce072d4e",
   "metadata": {},
   "outputs": [
    {
     "data": {
      "text/plain": [
       "2.0"
      ]
     },
     "execution_count": 3,
     "metadata": {},
     "output_type": "execute_result"
    }
   ],
   "source": [
    "10/5"
   ]
  },
  {
   "cell_type": "code",
   "execution_count": 4,
   "id": "3130d843",
   "metadata": {},
   "outputs": [
    {
     "data": {
      "text/plain": [
       "90"
      ]
     },
     "execution_count": 4,
     "metadata": {},
     "output_type": "execute_result"
    }
   ],
   "source": [
    "10*9"
   ]
  },
  {
   "cell_type": "markdown",
   "id": "066b572a",
   "metadata": {},
   "source": [
    "Jupyter notebook"
   ]
  },
  {
   "cell_type": "markdown",
   "id": "a3eb33f3",
   "metadata": {},
   "source": [
    "Hello students. welcome to the data science course\n",
    "\n"
   ]
  },
  {
   "cell_type": "markdown",
   "id": "079976fc",
   "metadata": {},
   "source": [
    " Shortcuts to execute the code\n",
    "ctrl+enter\n",
    "shift+enter\n",
    "\n",
    "add the cell (above the current cell) Esc+a\n",
    "add the cell (below the current cell) Esc+b\n",
    "delete the cell ( Esc+D+D)"
   ]
  },
  {
   "cell_type": "code",
   "execution_count": null,
   "id": "8c635f15",
   "metadata": {},
   "outputs": [],
   "source": []
  }
 ],
 "metadata": {
  "kernelspec": {
   "display_name": "Python 3 (ipykernel)",
   "language": "python",
   "name": "python3"
  },
  "language_info": {
   "codemirror_mode": {
    "name": "ipython",
    "version": 3
   },
   "file_extension": ".py",
   "mimetype": "text/x-python",
   "name": "python",
   "nbconvert_exporter": "python",
   "pygments_lexer": "ipython3",
   "version": "3.11.5"
  }
 },
 "nbformat": 4,
 "nbformat_minor": 5
}
